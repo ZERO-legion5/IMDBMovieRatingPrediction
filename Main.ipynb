{
 "cells": [
  {
   "cell_type": "markdown",
   "metadata": {},
   "source": [
    "### Importing the necessary libraries"
   ]
  },
  {
   "cell_type": "code",
   "execution_count": 1,
   "metadata": {
    "_cell_guid": "b1076dfc-b9ad-4769-8c92-a6c4dae69d19",
    "_uuid": "8f2839f25d086af736a60e9eeb907d3b93b6e0e5",
    "execution": {
     "iopub.execute_input": "2021-02-18T15:52:22.504994Z",
     "iopub.status.busy": "2021-02-18T15:52:22.504008Z",
     "iopub.status.idle": "2021-02-18T15:52:23.289261Z",
     "shell.execute_reply": "2021-02-18T15:52:23.288658Z"
    },
    "papermill": {
     "duration": 0.809958,
     "end_time": "2021-02-18T15:52:23.289470",
     "exception": false,
     "start_time": "2021-02-18T15:52:22.479512",
     "status": "completed"
    },
    "tags": []
   },
   "outputs": [],
   "source": [
    "import numpy as np\n",
    "import pandas as pd\n",
    "import matplotlib.pyplot as plt\n",
    "import seaborn as sns\n",
    "%matplotlib inline\n",
    "\n",
    "import warnings\n",
    "warnings.filterwarnings('ignore')"
   ]
  },
  {
   "cell_type": "markdown",
   "metadata": {},
   "source": [
    "### Reading the code and doing basic analysis"
   ]
  },
  {
   "cell_type": "code",
   "execution_count": 2,
   "metadata": {
    "execution": {
     "iopub.execute_input": "2021-02-18T15:52:23.337802Z",
     "iopub.status.busy": "2021-02-18T15:52:23.337197Z",
     "iopub.status.idle": "2021-02-18T15:52:23.379766Z",
     "shell.execute_reply": "2021-02-18T15:52:23.379136Z"
    },
    "papermill": {
     "duration": 0.067575,
     "end_time": "2021-02-18T15:52:23.379928",
     "exception": false,
     "start_time": "2021-02-18T15:52:23.312353",
     "status": "completed"
    },
    "tags": []
   },
   "outputs": [
    {
     "data": {
      "text/plain": [
       "(1000, 16)"
      ]
     },
     "execution_count": 2,
     "metadata": {},
     "output_type": "execute_result"
    }
   ],
   "source": [
    "df = pd.read_csv('imdb_top_1000.csv')\n",
    "df.shape"
   ]
  },
  {
   "cell_type": "code",
   "execution_count": 3,
   "metadata": {
    "execution": {
     "iopub.execute_input": "2021-02-18T15:52:23.427853Z",
     "iopub.status.busy": "2021-02-18T15:52:23.427268Z",
     "iopub.status.idle": "2021-02-18T15:52:23.461611Z",
     "shell.execute_reply": "2021-02-18T15:52:23.461086Z"
    },
    "papermill": {
     "duration": 0.059281,
     "end_time": "2021-02-18T15:52:23.461741",
     "exception": false,
     "start_time": "2021-02-18T15:52:23.402460",
     "status": "completed"
    },
    "tags": []
   },
   "outputs": [
    {
     "data": {
      "text/html": [
       "<div>\n",
       "<style scoped>\n",
       "    .dataframe tbody tr th:only-of-type {\n",
       "        vertical-align: middle;\n",
       "    }\n",
       "\n",
       "    .dataframe tbody tr th {\n",
       "        vertical-align: top;\n",
       "    }\n",
       "\n",
       "    .dataframe thead th {\n",
       "        text-align: right;\n",
       "    }\n",
       "</style>\n",
       "<table border=\"1\" class=\"dataframe\">\n",
       "  <thead>\n",
       "    <tr style=\"text-align: right;\">\n",
       "      <th></th>\n",
       "      <th>Poster_Link</th>\n",
       "      <th>Series_Title</th>\n",
       "      <th>Released_Year</th>\n",
       "      <th>Certificate</th>\n",
       "      <th>Runtime</th>\n",
       "      <th>Genre</th>\n",
       "      <th>IMDB_Rating</th>\n",
       "      <th>Overview</th>\n",
       "      <th>Meta_score</th>\n",
       "      <th>Director</th>\n",
       "      <th>Star1</th>\n",
       "      <th>Star2</th>\n",
       "      <th>Star3</th>\n",
       "      <th>Star4</th>\n",
       "      <th>No_of_Votes</th>\n",
       "      <th>Gross</th>\n",
       "    </tr>\n",
       "  </thead>\n",
       "  <tbody>\n",
       "    <tr>\n",
       "      <th>0</th>\n",
       "      <td>https://m.media-amazon.com/images/M/MV5BMDFkYT...</td>\n",
       "      <td>The Shawshank Redemption</td>\n",
       "      <td>1994</td>\n",
       "      <td>A</td>\n",
       "      <td>142 min</td>\n",
       "      <td>Drama</td>\n",
       "      <td>9.3</td>\n",
       "      <td>Two imprisoned men bond over a number of years...</td>\n",
       "      <td>80.0</td>\n",
       "      <td>Frank Darabont</td>\n",
       "      <td>Tim Robbins</td>\n",
       "      <td>Morgan Freeman</td>\n",
       "      <td>Bob Gunton</td>\n",
       "      <td>William Sadler</td>\n",
       "      <td>2343110</td>\n",
       "      <td>28,341,469</td>\n",
       "    </tr>\n",
       "    <tr>\n",
       "      <th>1</th>\n",
       "      <td>https://m.media-amazon.com/images/M/MV5BM2MyNj...</td>\n",
       "      <td>The Godfather</td>\n",
       "      <td>1972</td>\n",
       "      <td>A</td>\n",
       "      <td>175 min</td>\n",
       "      <td>Crime, Drama</td>\n",
       "      <td>9.2</td>\n",
       "      <td>An organized crime dynasty's aging patriarch t...</td>\n",
       "      <td>100.0</td>\n",
       "      <td>Francis Ford Coppola</td>\n",
       "      <td>Marlon Brando</td>\n",
       "      <td>Al Pacino</td>\n",
       "      <td>James Caan</td>\n",
       "      <td>Diane Keaton</td>\n",
       "      <td>1620367</td>\n",
       "      <td>134,966,411</td>\n",
       "    </tr>\n",
       "    <tr>\n",
       "      <th>2</th>\n",
       "      <td>https://m.media-amazon.com/images/M/MV5BMTMxNT...</td>\n",
       "      <td>The Dark Knight</td>\n",
       "      <td>2008</td>\n",
       "      <td>UA</td>\n",
       "      <td>152 min</td>\n",
       "      <td>Action, Crime, Drama</td>\n",
       "      <td>9.0</td>\n",
       "      <td>When the menace known as the Joker wreaks havo...</td>\n",
       "      <td>84.0</td>\n",
       "      <td>Christopher Nolan</td>\n",
       "      <td>Christian Bale</td>\n",
       "      <td>Heath Ledger</td>\n",
       "      <td>Aaron Eckhart</td>\n",
       "      <td>Michael Caine</td>\n",
       "      <td>2303232</td>\n",
       "      <td>534,858,444</td>\n",
       "    </tr>\n",
       "  </tbody>\n",
       "</table>\n",
       "</div>"
      ],
      "text/plain": [
       "                                         Poster_Link  \\\n",
       "0  https://m.media-amazon.com/images/M/MV5BMDFkYT...   \n",
       "1  https://m.media-amazon.com/images/M/MV5BM2MyNj...   \n",
       "2  https://m.media-amazon.com/images/M/MV5BMTMxNT...   \n",
       "\n",
       "               Series_Title Released_Year Certificate  Runtime  \\\n",
       "0  The Shawshank Redemption          1994           A  142 min   \n",
       "1             The Godfather          1972           A  175 min   \n",
       "2           The Dark Knight          2008          UA  152 min   \n",
       "\n",
       "                  Genre  IMDB_Rating  \\\n",
       "0                 Drama          9.3   \n",
       "1          Crime, Drama          9.2   \n",
       "2  Action, Crime, Drama          9.0   \n",
       "\n",
       "                                            Overview  Meta_score  \\\n",
       "0  Two imprisoned men bond over a number of years...        80.0   \n",
       "1  An organized crime dynasty's aging patriarch t...       100.0   \n",
       "2  When the menace known as the Joker wreaks havo...        84.0   \n",
       "\n",
       "               Director           Star1           Star2          Star3  \\\n",
       "0        Frank Darabont     Tim Robbins  Morgan Freeman     Bob Gunton   \n",
       "1  Francis Ford Coppola   Marlon Brando       Al Pacino     James Caan   \n",
       "2     Christopher Nolan  Christian Bale    Heath Ledger  Aaron Eckhart   \n",
       "\n",
       "            Star4  No_of_Votes        Gross  \n",
       "0  William Sadler      2343110   28,341,469  \n",
       "1    Diane Keaton      1620367  134,966,411  \n",
       "2   Michael Caine      2303232  534,858,444  "
      ]
     },
     "execution_count": 3,
     "metadata": {},
     "output_type": "execute_result"
    }
   ],
   "source": [
    "df.head(3)"
   ]
  },
  {
   "cell_type": "code",
   "execution_count": 4,
   "metadata": {
    "execution": {
     "iopub.execute_input": "2021-02-18T15:52:23.513505Z",
     "iopub.status.busy": "2021-02-18T15:52:23.512903Z",
     "iopub.status.idle": "2021-02-18T15:52:23.515795Z",
     "shell.execute_reply": "2021-02-18T15:52:23.516297Z"
    },
    "papermill": {
     "duration": 0.031312,
     "end_time": "2021-02-18T15:52:23.516512",
     "exception": false,
     "start_time": "2021-02-18T15:52:23.485200",
     "status": "completed"
    },
    "tags": []
   },
   "outputs": [
    {
     "data": {
      "text/plain": [
       "Index(['Poster_Link', 'Series_Title', 'Released_Year', 'Certificate',\n",
       "       'Runtime', 'Genre', 'IMDB_Rating', 'Overview', 'Meta_score', 'Director',\n",
       "       'Star1', 'Star2', 'Star3', 'Star4', 'No_of_Votes', 'Gross'],\n",
       "      dtype='object')"
      ]
     },
     "execution_count": 4,
     "metadata": {},
     "output_type": "execute_result"
    }
   ],
   "source": [
    "df.columns"
   ]
  },
  {
   "cell_type": "code",
   "execution_count": 5,
   "metadata": {
    "execution": {
     "iopub.execute_input": "2021-02-18T15:52:23.567221Z",
     "iopub.status.busy": "2021-02-18T15:52:23.566632Z",
     "iopub.status.idle": "2021-02-18T15:52:23.575771Z",
     "shell.execute_reply": "2021-02-18T15:52:23.576297Z"
    },
    "papermill": {
     "duration": 0.035641,
     "end_time": "2021-02-18T15:52:23.576450",
     "exception": false,
     "start_time": "2021-02-18T15:52:23.540809",
     "status": "completed"
    },
    "tags": []
   },
   "outputs": [],
   "source": [
    "df.drop(columns = 'Star1 Star2 Star3 Star4'.split(), axis =1, inplace = True)"
   ]
  },
  {
   "cell_type": "code",
   "execution_count": 6,
   "metadata": {
    "execution": {
     "iopub.execute_input": "2021-02-18T15:52:23.626434Z",
     "iopub.status.busy": "2021-02-18T15:52:23.625802Z",
     "iopub.status.idle": "2021-02-18T15:52:23.647945Z",
     "shell.execute_reply": "2021-02-18T15:52:23.647297Z"
    },
    "papermill": {
     "duration": 0.048251,
     "end_time": "2021-02-18T15:52:23.648074",
     "exception": false,
     "start_time": "2021-02-18T15:52:23.599823",
     "status": "completed"
    },
    "tags": []
   },
   "outputs": [
    {
     "data": {
      "text/html": [
       "<div>\n",
       "<style scoped>\n",
       "    .dataframe tbody tr th:only-of-type {\n",
       "        vertical-align: middle;\n",
       "    }\n",
       "\n",
       "    .dataframe tbody tr th {\n",
       "        vertical-align: top;\n",
       "    }\n",
       "\n",
       "    .dataframe thead th {\n",
       "        text-align: right;\n",
       "    }\n",
       "</style>\n",
       "<table border=\"1\" class=\"dataframe\">\n",
       "  <thead>\n",
       "    <tr style=\"text-align: right;\">\n",
       "      <th></th>\n",
       "      <th>IMDB_Rating</th>\n",
       "      <th>Meta_score</th>\n",
       "      <th>No_of_Votes</th>\n",
       "    </tr>\n",
       "  </thead>\n",
       "  <tbody>\n",
       "    <tr>\n",
       "      <th>count</th>\n",
       "      <td>1000.000000</td>\n",
       "      <td>843.000000</td>\n",
       "      <td>1.000000e+03</td>\n",
       "    </tr>\n",
       "    <tr>\n",
       "      <th>mean</th>\n",
       "      <td>7.949300</td>\n",
       "      <td>77.971530</td>\n",
       "      <td>2.736929e+05</td>\n",
       "    </tr>\n",
       "    <tr>\n",
       "      <th>std</th>\n",
       "      <td>0.275491</td>\n",
       "      <td>12.376099</td>\n",
       "      <td>3.273727e+05</td>\n",
       "    </tr>\n",
       "    <tr>\n",
       "      <th>min</th>\n",
       "      <td>7.600000</td>\n",
       "      <td>28.000000</td>\n",
       "      <td>2.508800e+04</td>\n",
       "    </tr>\n",
       "    <tr>\n",
       "      <th>25%</th>\n",
       "      <td>7.700000</td>\n",
       "      <td>70.000000</td>\n",
       "      <td>5.552625e+04</td>\n",
       "    </tr>\n",
       "    <tr>\n",
       "      <th>50%</th>\n",
       "      <td>7.900000</td>\n",
       "      <td>79.000000</td>\n",
       "      <td>1.385485e+05</td>\n",
       "    </tr>\n",
       "    <tr>\n",
       "      <th>75%</th>\n",
       "      <td>8.100000</td>\n",
       "      <td>87.000000</td>\n",
       "      <td>3.741612e+05</td>\n",
       "    </tr>\n",
       "    <tr>\n",
       "      <th>max</th>\n",
       "      <td>9.300000</td>\n",
       "      <td>100.000000</td>\n",
       "      <td>2.343110e+06</td>\n",
       "    </tr>\n",
       "  </tbody>\n",
       "</table>\n",
       "</div>"
      ],
      "text/plain": [
       "       IMDB_Rating  Meta_score   No_of_Votes\n",
       "count  1000.000000  843.000000  1.000000e+03\n",
       "mean      7.949300   77.971530  2.736929e+05\n",
       "std       0.275491   12.376099  3.273727e+05\n",
       "min       7.600000   28.000000  2.508800e+04\n",
       "25%       7.700000   70.000000  5.552625e+04\n",
       "50%       7.900000   79.000000  1.385485e+05\n",
       "75%       8.100000   87.000000  3.741612e+05\n",
       "max       9.300000  100.000000  2.343110e+06"
      ]
     },
     "execution_count": 6,
     "metadata": {},
     "output_type": "execute_result"
    }
   ],
   "source": [
    "df.describe()"
   ]
  },
  {
   "cell_type": "markdown",
   "metadata": {},
   "source": [
    "### EDA"
   ]
  },
  {
   "cell_type": "code",
   "execution_count": 7,
   "metadata": {
    "execution": {
     "iopub.execute_input": "2021-02-18T15:52:23.699811Z",
     "iopub.status.busy": "2021-02-18T15:52:23.699237Z",
     "iopub.status.idle": "2021-02-18T15:52:23.708089Z",
     "shell.execute_reply": "2021-02-18T15:52:23.708554Z"
    },
    "papermill": {
     "duration": 0.036593,
     "end_time": "2021-02-18T15:52:23.708722",
     "exception": false,
     "start_time": "2021-02-18T15:52:23.672129",
     "status": "completed"
    },
    "tags": []
   },
   "outputs": [
    {
     "data": {
      "text/plain": [
       "Poster_Link        0\n",
       "Series_Title       0\n",
       "Released_Year      0\n",
       "Certificate      101\n",
       "Runtime            0\n",
       "Genre              0\n",
       "IMDB_Rating        0\n",
       "Overview           0\n",
       "Meta_score       157\n",
       "Director           0\n",
       "No_of_Votes        0\n",
       "Gross            169\n",
       "dtype: int64"
      ]
     },
     "execution_count": 7,
     "metadata": {},
     "output_type": "execute_result"
    }
   ],
   "source": [
    "df.isna().sum()"
   ]
  },
  {
   "cell_type": "code",
   "execution_count": 8,
   "metadata": {
    "execution": {
     "iopub.execute_input": "2021-02-18T15:52:23.767866Z",
     "iopub.status.busy": "2021-02-18T15:52:23.767062Z",
     "iopub.status.idle": "2021-02-18T15:52:23.771581Z",
     "shell.execute_reply": "2021-02-18T15:52:23.771072Z"
    },
    "papermill": {
     "duration": 0.037971,
     "end_time": "2021-02-18T15:52:23.771736",
     "exception": false,
     "start_time": "2021-02-18T15:52:23.733765",
     "status": "completed"
    },
    "tags": []
   },
   "outputs": [
    {
     "data": {
      "text/plain": [
       "0    U\n",
       "Name: Certificate, dtype: object"
      ]
     },
     "execution_count": 8,
     "metadata": {},
     "output_type": "execute_result"
    }
   ],
   "source": [
    "df[\"Certificate\"].mode()"
   ]
  },
  {
   "cell_type": "code",
   "execution_count": 9,
   "metadata": {
    "execution": {
     "iopub.execute_input": "2021-02-18T15:52:23.835029Z",
     "iopub.status.busy": "2021-02-18T15:52:23.834052Z",
     "iopub.status.idle": "2021-02-18T15:52:23.838609Z",
     "shell.execute_reply": "2021-02-18T15:52:23.838117Z"
    },
    "papermill": {
     "duration": 0.041368,
     "end_time": "2021-02-18T15:52:23.838747",
     "exception": false,
     "start_time": "2021-02-18T15:52:23.797379",
     "status": "completed"
    },
    "tags": []
   },
   "outputs": [
    {
     "data": {
      "text/plain": [
       "Poster_Link        0\n",
       "Series_Title       0\n",
       "Released_Year      0\n",
       "Certificate        0\n",
       "Runtime            0\n",
       "Genre              0\n",
       "IMDB_Rating        0\n",
       "Overview           0\n",
       "Meta_score       157\n",
       "Director           0\n",
       "No_of_Votes        0\n",
       "Gross            169\n",
       "dtype: int64"
      ]
     },
     "execution_count": 9,
     "metadata": {},
     "output_type": "execute_result"
    }
   ],
   "source": [
    "df['Certificate'].fillna(df['Certificate'].mode()[0], inplace=True)\n",
    "df.isna().sum()"
   ]
  },
  {
   "cell_type": "code",
   "execution_count": 10,
   "metadata": {
    "execution": {
     "iopub.execute_input": "2021-02-18T15:52:23.895937Z",
     "iopub.status.busy": "2021-02-18T15:52:23.895299Z",
     "iopub.status.idle": "2021-02-18T15:52:23.918679Z",
     "shell.execute_reply": "2021-02-18T15:52:23.918132Z"
    },
    "papermill": {
     "duration": 0.053957,
     "end_time": "2021-02-18T15:52:23.918815",
     "exception": false,
     "start_time": "2021-02-18T15:52:23.864858",
     "status": "completed"
    },
    "tags": []
   },
   "outputs": [
    {
     "data": {
      "text/plain": [
       "Poster_Link        0\n",
       "Series_Title       0\n",
       "Released_Year      0\n",
       "Certificate        0\n",
       "Runtime            0\n",
       "Genre              0\n",
       "IMDB_Rating        0\n",
       "Overview           0\n",
       "Meta_score         0\n",
       "Director           0\n",
       "No_of_Votes        0\n",
       "Gross            169\n",
       "dtype: int64"
      ]
     },
     "execution_count": 10,
     "metadata": {},
     "output_type": "execute_result"
    }
   ],
   "source": [
    "df['Meta_score'].fillna(10*df['IMDB_Rating'], inplace=True)\n",
    "df.isna().sum()"
   ]
  },
  {
   "cell_type": "code",
   "execution_count": 11,
   "metadata": {
    "execution": {
     "iopub.execute_input": "2021-02-18T15:52:23.981732Z",
     "iopub.status.busy": "2021-02-18T15:52:23.980826Z",
     "iopub.status.idle": "2021-02-18T15:52:23.984807Z",
     "shell.execute_reply": "2021-02-18T15:52:23.984231Z"
    },
    "papermill": {
     "duration": 0.039741,
     "end_time": "2021-02-18T15:52:23.984984",
     "exception": false,
     "start_time": "2021-02-18T15:52:23.945243",
     "status": "completed"
    },
    "tags": []
   },
   "outputs": [
    {
     "data": {
      "text/plain": [
       "(831, 12)"
      ]
     },
     "execution_count": 11,
     "metadata": {},
     "output_type": "execute_result"
    }
   ],
   "source": [
    "df.dropna(subset=['Gross'], how='all', inplace=True)\n",
    "df.shape"
   ]
  },
  {
   "cell_type": "code",
   "execution_count": 12,
   "metadata": {
    "execution": {
     "iopub.execute_input": "2021-02-18T15:52:24.045889Z",
     "iopub.status.busy": "2021-02-18T15:52:24.045282Z",
     "iopub.status.idle": "2021-02-18T15:52:24.049135Z",
     "shell.execute_reply": "2021-02-18T15:52:24.048589Z"
    },
    "papermill": {
     "duration": 0.037512,
     "end_time": "2021-02-18T15:52:24.049265",
     "exception": false,
     "start_time": "2021-02-18T15:52:24.011753",
     "status": "completed"
    },
    "tags": []
   },
   "outputs": [
    {
     "data": {
      "text/plain": [
       "Poster_Link      0\n",
       "Series_Title     0\n",
       "Released_Year    0\n",
       "Certificate      0\n",
       "Runtime          0\n",
       "Genre            0\n",
       "IMDB_Rating      0\n",
       "Overview         0\n",
       "Meta_score       0\n",
       "Director         0\n",
       "No_of_Votes      0\n",
       "Gross            0\n",
       "dtype: int64"
      ]
     },
     "execution_count": 12,
     "metadata": {},
     "output_type": "execute_result"
    }
   ],
   "source": [
    "df.isna().sum()"
   ]
  },
  {
   "cell_type": "code",
   "execution_count": 13,
   "metadata": {
    "execution": {
     "iopub.execute_input": "2021-02-18T15:52:24.112683Z",
     "iopub.status.busy": "2021-02-18T15:52:24.112082Z",
     "iopub.status.idle": "2021-02-18T15:52:24.124310Z",
     "shell.execute_reply": "2021-02-18T15:52:24.123773Z"
    },
    "papermill": {
     "duration": 0.048565,
     "end_time": "2021-02-18T15:52:24.124445",
     "exception": false,
     "start_time": "2021-02-18T15:52:24.075880",
     "status": "completed"
    },
    "tags": []
   },
   "outputs": [
    {
     "data": {
      "text/html": [
       "<div>\n",
       "<style scoped>\n",
       "    .dataframe tbody tr th:only-of-type {\n",
       "        vertical-align: middle;\n",
       "    }\n",
       "\n",
       "    .dataframe tbody tr th {\n",
       "        vertical-align: top;\n",
       "    }\n",
       "\n",
       "    .dataframe thead th {\n",
       "        text-align: right;\n",
       "    }\n",
       "</style>\n",
       "<table border=\"1\" class=\"dataframe\">\n",
       "  <thead>\n",
       "    <tr style=\"text-align: right;\">\n",
       "      <th></th>\n",
       "      <th>IMDB_Rating</th>\n",
       "      <th>Meta_score</th>\n",
       "      <th>No_of_Votes</th>\n",
       "    </tr>\n",
       "  </thead>\n",
       "  <tbody>\n",
       "    <tr>\n",
       "      <th>count</th>\n",
       "      <td>831.000000</td>\n",
       "      <td>831.000000</td>\n",
       "      <td>8.310000e+02</td>\n",
       "    </tr>\n",
       "    <tr>\n",
       "      <th>mean</th>\n",
       "      <td>7.946931</td>\n",
       "      <td>77.765343</td>\n",
       "      <td>3.152499e+05</td>\n",
       "    </tr>\n",
       "    <tr>\n",
       "      <th>std</th>\n",
       "      <td>0.283204</td>\n",
       "      <td>11.919370</td>\n",
       "      <td>3.436443e+05</td>\n",
       "    </tr>\n",
       "    <tr>\n",
       "      <th>min</th>\n",
       "      <td>7.600000</td>\n",
       "      <td>28.000000</td>\n",
       "      <td>2.508800e+04</td>\n",
       "    </tr>\n",
       "    <tr>\n",
       "      <th>25%</th>\n",
       "      <td>7.700000</td>\n",
       "      <td>71.000000</td>\n",
       "      <td>7.143000e+04</td>\n",
       "    </tr>\n",
       "    <tr>\n",
       "      <th>50%</th>\n",
       "      <td>7.900000</td>\n",
       "      <td>79.000000</td>\n",
       "      <td>1.867340e+05</td>\n",
       "    </tr>\n",
       "    <tr>\n",
       "      <th>75%</th>\n",
       "      <td>8.100000</td>\n",
       "      <td>85.500000</td>\n",
       "      <td>4.457210e+05</td>\n",
       "    </tr>\n",
       "    <tr>\n",
       "      <th>max</th>\n",
       "      <td>9.300000</td>\n",
       "      <td>100.000000</td>\n",
       "      <td>2.343110e+06</td>\n",
       "    </tr>\n",
       "  </tbody>\n",
       "</table>\n",
       "</div>"
      ],
      "text/plain": [
       "       IMDB_Rating  Meta_score   No_of_Votes\n",
       "count   831.000000  831.000000  8.310000e+02\n",
       "mean      7.946931   77.765343  3.152499e+05\n",
       "std       0.283204   11.919370  3.436443e+05\n",
       "min       7.600000   28.000000  2.508800e+04\n",
       "25%       7.700000   71.000000  7.143000e+04\n",
       "50%       7.900000   79.000000  1.867340e+05\n",
       "75%       8.100000   85.500000  4.457210e+05\n",
       "max       9.300000  100.000000  2.343110e+06"
      ]
     },
     "execution_count": 13,
     "metadata": {},
     "output_type": "execute_result"
    }
   ],
   "source": [
    "df.describe()"
   ]
  },
  {
   "cell_type": "code",
   "execution_count": 14,
   "metadata": {
    "execution": {
     "iopub.execute_input": "2021-02-18T15:52:24.183638Z",
     "iopub.status.busy": "2021-02-18T15:52:24.182660Z",
     "iopub.status.idle": "2021-02-18T15:52:24.190393Z",
     "shell.execute_reply": "2021-02-18T15:52:24.190942Z"
    },
    "papermill": {
     "duration": 0.038818,
     "end_time": "2021-02-18T15:52:24.191095",
     "exception": false,
     "start_time": "2021-02-18T15:52:24.152277",
     "status": "completed"
    },
    "tags": []
   },
   "outputs": [
    {
     "data": {
      "text/plain": [
       "array(['1994', '1972', '2008', '1974', '1957', '2003', '1993', '2010',\n",
       "       '1999', '2001', '1966', '2002', '1990', '1980', '1975', '2019',\n",
       "       '2014', '1998', '1997', '1995', '1991', '1977', '1954', '2011',\n",
       "       '2006', '2000', '1988', '1985', '1968', '1960', '1942', '1936',\n",
       "       '1931', '2018', '2016', '2017', '2012', '2009', '2007', '1984',\n",
       "       '1981', '1979', '1964', '1940', '2004', '1992', '1987', '1986',\n",
       "       '1983', '1976', '1973', '1971', '1965', '1962', '1959', '1958',\n",
       "       '1952', '1948', '1944', '1941', '1927', '1921', '2015', '2013',\n",
       "       '2005', '1989', '1963', '1955', '1950', '1925', '1924', '1996',\n",
       "       '1982', '1978', '1967', '1951', '1949', '1939', '1937', '1934',\n",
       "       '1928', '1926', '1970', '1969', '1961', '1946', '1930', '1956',\n",
       "       '1947', '1945', '1938', '1935', '1933', 'PG', '1953'], dtype=object)"
      ]
     },
     "execution_count": 14,
     "metadata": {},
     "output_type": "execute_result"
    }
   ],
   "source": [
    "df['Released_Year'].unique()"
   ]
  },
  {
   "cell_type": "code",
   "execution_count": 15,
   "metadata": {
    "execution": {
     "iopub.execute_input": "2021-02-18T15:52:24.250369Z",
     "iopub.status.busy": "2021-02-18T15:52:24.249763Z",
     "iopub.status.idle": "2021-02-18T15:52:24.259641Z",
     "shell.execute_reply": "2021-02-18T15:52:24.260213Z"
    },
    "papermill": {
     "duration": 0.041173,
     "end_time": "2021-02-18T15:52:24.260380",
     "exception": false,
     "start_time": "2021-02-18T15:52:24.219207",
     "status": "completed"
    },
    "tags": []
   },
   "outputs": [
    {
     "data": {
      "text/plain": [
       "array(['1994', '1972', '2008', '1974', '1957', '2003', '1993', '2010',\n",
       "       '1999', '2001', '1966', '2002', '1990', '1980', '1975', '2019',\n",
       "       '2014', '1998', '1997', '1995', '1991', '1977', '1954', '2011',\n",
       "       '2006', '2000', '1988', '1985', '1968', '1960', '1942', '1936',\n",
       "       '1931', '2018', '2016', '2017', '2012', '2009', '2007', '1984',\n",
       "       '1981', '1979', '1964', '1940', '2004', '1992', '1987', '1986',\n",
       "       '1983', '1976', '1973', '1971', '1965', '1962', '1959', '1958',\n",
       "       '1952', '1948', '1944', '1941', '1927', '1921', '2015', '2013',\n",
       "       '2005', '1989', '1963', '1955', '1950', '1925', '1924', '1996',\n",
       "       '1982', '1978', '1967', '1951', '1949', '1939', '1937', '1934',\n",
       "       '1928', '1926', '1970', '1969', '1961', '1946', '1930', '1956',\n",
       "       '1947', '1945', '1938', '1935', '1933', '1953'], dtype=object)"
      ]
     },
     "execution_count": 15,
     "metadata": {},
     "output_type": "execute_result"
    }
   ],
   "source": [
    "df = df.drop(df[df['Released_Year'] == 'PG'].index)\n",
    "df['Released_Year'].unique()"
   ]
  },
  {
   "cell_type": "code",
   "execution_count": 16,
   "metadata": {
    "execution": {
     "iopub.execute_input": "2021-02-18T15:52:24.321030Z",
     "iopub.status.busy": "2021-02-18T15:52:24.320471Z",
     "iopub.status.idle": "2021-02-18T15:52:24.326058Z",
     "shell.execute_reply": "2021-02-18T15:52:24.326727Z"
    },
    "papermill": {
     "duration": 0.037914,
     "end_time": "2021-02-18T15:52:24.326886",
     "exception": false,
     "start_time": "2021-02-18T15:52:24.288972",
     "status": "completed"
    },
    "tags": []
   },
   "outputs": [
    {
     "data": {
      "text/plain": [
       "array([9.3, 9.2, 9. , 8.9, 8.8, 8.7, 8.6, 8.5, 8.4, 8.3, 8.2, 8.1, 8. ,\n",
       "       7.9, 7.8, 7.7, 7.6])"
      ]
     },
     "execution_count": 16,
     "metadata": {},
     "output_type": "execute_result"
    }
   ],
   "source": [
    "df['IMDB_Rating'].unique()"
   ]
  },
  {
   "cell_type": "code",
   "execution_count": 17,
   "metadata": {
    "execution": {
     "iopub.execute_input": "2021-02-18T15:52:24.387418Z",
     "iopub.status.busy": "2021-02-18T15:52:24.386835Z",
     "iopub.status.idle": "2021-02-18T15:52:24.394112Z",
     "shell.execute_reply": "2021-02-18T15:52:24.393602Z"
    },
    "papermill": {
     "duration": 0.038808,
     "end_time": "2021-02-18T15:52:24.394243",
     "exception": false,
     "start_time": "2021-02-18T15:52:24.355435",
     "status": "completed"
    },
    "tags": []
   },
   "outputs": [
    {
     "data": {
      "text/plain": [
       "array(['Drama', 'Crime, Drama', 'Action, Crime, Drama',\n",
       "       'Action, Adventure, Drama', 'Biography, Drama, History',\n",
       "       'Action, Adventure, Sci-Fi', 'Drama, Romance', 'Western',\n",
       "       'Action, Sci-Fi', 'Biography, Crime, Drama',\n",
       "       'Action, Adventure, Fantasy', 'Comedy, Drama, Thriller',\n",
       "       'Adventure, Drama, Sci-Fi', 'Animation, Adventure, Family',\n",
       "       'Drama, War', 'Crime, Drama, Fantasy', 'Comedy, Drama, Romance',\n",
       "       'Crime, Drama, Mystery', 'Crime, Drama, Thriller', 'Drama, Music',\n",
       "       'Biography, Comedy, Drama', 'Drama, Mystery, Sci-Fi',\n",
       "       'Biography, Drama, Music', 'Crime, Mystery, Thriller',\n",
       "       'Animation, Adventure, Drama', 'Adventure, Comedy, Sci-Fi',\n",
       "       'Horror, Mystery, Thriller', 'Drama, Romance, War',\n",
       "       'Comedy, Drama, Family', 'Animation, Drama, Fantasy',\n",
       "       'Action, Biography, Drama', 'Animation, Action, Adventure',\n",
       "       'Drama, Western', 'Action, Adventure', 'Comedy, Drama',\n",
       "       'Drama, Family', 'Drama, Mystery, Thriller',\n",
       "       'Action, Drama, Mystery', 'Mystery, Thriller', 'Drama, Horror',\n",
       "       'Drama, Mystery, War', 'Horror, Sci-Fi', 'Comedy',\n",
       "       'Comedy, Drama, War', 'Drama, Thriller, War',\n",
       "       'Crime, Drama, Music', 'Adventure, Drama, War',\n",
       "       'Drama, Romance, Sci-Fi', 'Comedy, Romance', 'Comedy, Crime',\n",
       "       'Drama, Family, Sport', 'Animation, Adventure, Comedy',\n",
       "       'Adventure, Drama, Thriller', 'Comedy, Crime, Drama',\n",
       "       'Crime, Drama, Sci-Fi', 'Adventure, Sci-Fi',\n",
       "       'Adventure, Biography, Drama', 'Adventure, Mystery, Thriller',\n",
       "       'Mystery, Romance, Thriller', 'Comedy, Musical, Romance',\n",
       "       'Crime, Drama, Film-Noir', 'Drama, Mystery', 'Drama, Sci-Fi',\n",
       "       'Action, Drama, War', 'Action, Drama', 'Adventure, Comedy, Drama',\n",
       "       'Biography, Drama, Sport', 'Action, Biography, Crime',\n",
       "       'Drama, Mystery, Romance', 'Action, Drama, Sport',\n",
       "       'Drama, Fantasy, War', 'Action, Drama, Sci-Fi', 'Biography, Drama',\n",
       "       'Action, Comedy, Crime', 'Animation, Family, Fantasy',\n",
       "       'Action, Thriller', 'Adventure, Comedy, Fantasy',\n",
       "       'Adventure, Drama, History', 'Comedy, Music, Romance',\n",
       "       'Crime, Thriller', 'Adventure, Drama, Western',\n",
       "       'Action, Comedy, Romance', 'Drama, Thriller',\n",
       "       'Drama, Romance, Thriller', 'Comedy, Drama, Musical',\n",
       "       'Comedy, Drama, Fantasy', 'Adventure, Comedy, Crime',\n",
       "       'Adventure, Drama, Fantasy', 'Drama, Sport',\n",
       "       'Adventure, Drama, Musical', 'Drama, Music, Romance',\n",
       "       'Comedy, Crime, Romance', 'Comedy, Crime, Sport',\n",
       "       'Drama, History, Romance', 'Adventure, Drama',\n",
       "       'Animation, Adventure, Fantasy', 'Horror, Mystery, Sci-Fi',\n",
       "       'Drama, Fantasy, Music', 'Action, Sci-Fi, Thriller',\n",
       "       'Drama, Horror, Thriller', 'Drama, Film-Noir',\n",
       "       'Film-Noir, Mystery, Thriller', 'Action, Adventure, Comedy',\n",
       "       'Comedy, Drama, Music', 'Action, Crime, Thriller',\n",
       "       'Biography, Drama, Thriller', 'Animation, Biography, Drama',\n",
       "       'Action, Mystery, Thriller', 'Crime, Drama, Romance',\n",
       "       'Action, Adventure, Thriller', 'Crime, Drama, Musical',\n",
       "       'Animation, Crime, Mystery', 'Action, Crime, Comedy',\n",
       "       'Mystery, Sci-Fi, Thriller', 'Animation, Action, Crime',\n",
       "       'Comedy, Fantasy, Romance', 'Drama, History, Thriller',\n",
       "       'Animation, Action, Sci-Fi', 'Adventure, Family, Fantasy',\n",
       "       'Drama, Fantasy, Romance', 'Adventure, Thriller', 'Horror',\n",
       "       'Drama, Family, Musical', 'Biography, Drama, Family',\n",
       "       'Action, Drama, Western', 'Drama, Film-Noir, Mystery',\n",
       "       'Film-Noir, Mystery', 'Drama, History', 'Comedy, Horror',\n",
       "       'Action, Adventure, History', 'Drama, Music, Mystery',\n",
       "       'Comedy, Music', 'Comedy, Family', 'Drama, Music, Musical',\n",
       "       'Action, Adventure, Horror', 'Biography, Drama, War',\n",
       "       'Action, Adventure, Western', 'Horror, Thriller',\n",
       "       'Comedy, Mystery, Romance', 'Drama, Thriller, Western',\n",
       "       'Crime, Film-Noir, Thriller', 'Drama, Film-Noir, Romance',\n",
       "       'Crime, Film-Noir, Mystery', 'Action, Adventure, Romance',\n",
       "       'Comedy, Music, Musical', 'Adventure, Horror, Sci-Fi',\n",
       "       'Action, Drama, History', 'Adventure, Comedy, Family',\n",
       "       'Drama, History, War', 'Animation, Biography, Crime',\n",
       "       'Adventure, Biography, Crime', 'Adventure, Fantasy',\n",
       "       'Drama, History, Mystery', 'Action, Comedy, Mystery',\n",
       "       'Animation, Comedy, Drama', 'Adventure, Drama, Romance',\n",
       "       'Drama, Sci-Fi, Thriller', 'Crime, Drama, History',\n",
       "       'Action, Comedy, Fantasy', 'Family, Sci-Fi', 'Animation, Sci-Fi',\n",
       "       'Family, Fantasy, Musical', 'Thriller', 'Comedy, Family, Fantasy',\n",
       "       'Drama, Horror, Sci-Fi', 'Animation, Drama, Family',\n",
       "       'Biography, Drama, Romance', 'Drama, History, Music',\n",
       "       'Animation, Action, Fantasy', 'Animation, Comedy, Fantasy',\n",
       "       'Drama, Family, Fantasy', 'Comedy, Western',\n",
       "       'Action, Adventure, War', 'Drama, Horror, Mystery',\n",
       "       'Animation, Comedy, Crime', 'Action, Adventure, Mystery',\n",
       "       'Drama, Fantasy, Mystery', 'Action, Adventure, Family',\n",
       "       'Action, Crime, Mystery', 'Animation, Drama, Romance',\n",
       "       'Drama, War, Western', 'Adventure, Comedy, War'], dtype=object)"
      ]
     },
     "execution_count": 17,
     "metadata": {},
     "output_type": "execute_result"
    }
   ],
   "source": [
    "df['Genre'].unique()"
   ]
  },
  {
   "cell_type": "code",
   "execution_count": 18,
   "metadata": {
    "execution": {
     "iopub.execute_input": "2021-02-18T15:52:24.460274Z",
     "iopub.status.busy": "2021-02-18T15:52:24.459693Z",
     "iopub.status.idle": "2021-02-18T15:52:24.462308Z",
     "shell.execute_reply": "2021-02-18T15:52:24.462818Z"
    },
    "papermill": {
     "duration": 0.039348,
     "end_time": "2021-02-18T15:52:24.462958",
     "exception": false,
     "start_time": "2021-02-18T15:52:24.423610",
     "status": "completed"
    },
    "tags": []
   },
   "outputs": [
    {
     "data": {
      "text/plain": [
       "Poster_Link       object\n",
       "Series_Title      object\n",
       "Released_Year     object\n",
       "Certificate       object\n",
       "Runtime           object\n",
       "Genre             object\n",
       "IMDB_Rating      float64\n",
       "Overview          object\n",
       "Meta_score       float64\n",
       "Director          object\n",
       "No_of_Votes        int64\n",
       "Gross             object\n",
       "dtype: object"
      ]
     },
     "execution_count": 18,
     "metadata": {},
     "output_type": "execute_result"
    }
   ],
   "source": [
    "df.dtypes"
   ]
  },
  {
   "cell_type": "code",
   "execution_count": 19,
   "metadata": {
    "execution": {
     "iopub.execute_input": "2021-02-18T15:52:24.525573Z",
     "iopub.status.busy": "2021-02-18T15:52:24.525003Z",
     "iopub.status.idle": "2021-02-18T15:52:24.532920Z",
     "shell.execute_reply": "2021-02-18T15:52:24.532342Z"
    },
    "papermill": {
     "duration": 0.040038,
     "end_time": "2021-02-18T15:52:24.533053",
     "exception": false,
     "start_time": "2021-02-18T15:52:24.493015",
     "status": "completed"
    },
    "tags": []
   },
   "outputs": [],
   "source": [
    "df.drop(columns = ['Poster_Link','Series_Title','Overview'],axis=1,inplace=True)"
   ]
  },
  {
   "cell_type": "markdown",
   "metadata": {},
   "source": [
    "### Feature Extraction"
   ]
  },
  {
   "cell_type": "code",
   "execution_count": 20,
   "metadata": {
    "execution": {
     "iopub.execute_input": "2021-02-18T15:52:24.635730Z",
     "iopub.status.busy": "2021-02-18T15:52:24.635068Z",
     "iopub.status.idle": "2021-02-18T15:52:24.637677Z",
     "shell.execute_reply": "2021-02-18T15:52:24.638121Z"
    },
    "papermill": {
     "duration": 0.075398,
     "end_time": "2021-02-18T15:52:24.638286",
     "exception": false,
     "start_time": "2021-02-18T15:52:24.562888",
     "status": "completed"
    },
    "tags": []
   },
   "outputs": [
    {
     "data": {
      "text/plain": [
       "Released_Year      int32\n",
       "Certificate       object\n",
       "Runtime            int32\n",
       "Genre             object\n",
       "IMDB_Rating      float64\n",
       "Meta_score       float64\n",
       "Director          object\n",
       "No_of_Votes        int64\n",
       "Gross              int32\n",
       "dtype: object"
      ]
     },
     "execution_count": 20,
     "metadata": {},
     "output_type": "execute_result"
    }
   ],
   "source": [
    "df['Released_Year'] = df['Released_Year'].astype(int)\n",
    "df = df.astype({\"Runtime\": str})\n",
    "df['Runtime']=df['Runtime'].str.replace(' min','')\n",
    "df = df.astype({\"Runtime\": int})\n",
    "df = df.astype({\"Gross\": str})\n",
    "df['Gross']=df['Gross'].str.replace(',','')\n",
    "df[\"Gross\"] = df[\"Gross\"].apply(pd.to_numeric)\n",
    "df = df.astype({\"Gross\": int})\n",
    "df = df.apply(pd.to_numeric, errors='ignore')\n",
    "df.dtypes"
   ]
  },
  {
   "cell_type": "markdown",
   "metadata": {},
   "source": [
    "### Visualization"
   ]
  },
  {
   "cell_type": "code",
   "execution_count": 21,
   "metadata": {
    "execution": {
     "iopub.execute_input": "2021-02-18T15:52:24.701966Z",
     "iopub.status.busy": "2021-02-18T15:52:24.701393Z",
     "iopub.status.idle": "2021-02-18T15:52:24.986158Z",
     "shell.execute_reply": "2021-02-18T15:52:24.985573Z"
    },
    "papermill": {
     "duration": 0.317926,
     "end_time": "2021-02-18T15:52:24.986288",
     "exception": false,
     "start_time": "2021-02-18T15:52:24.668362",
     "status": "completed"
    },
    "tags": []
   },
   "outputs": [
    {
     "data": {
      "image/png": "[encoded data removed]",
      "text/plain": [
       "<Figure size 640x480 with 1 Axes>"
      ]
     },
     "metadata": {},
     "output_type": "display_data"
    }
   ],
   "source": [
    "ax = sns.distplot(df['Gross'])"
   ]
  },
  {
   "cell_type": "code",
   "execution_count": 22,
   "metadata": {
    "execution": {
     "iopub.execute_input": "2021-02-18T15:52:25.147905Z",
     "iopub.status.busy": "2021-02-18T15:52:25.145535Z",
     "iopub.status.idle": "2021-02-18T15:52:25.340835Z",
     "shell.execute_reply": "2021-02-18T15:52:25.340216Z"
    },
    "papermill": {
     "duration": 0.323808,
     "end_time": "2021-02-18T15:52:25.340966",
     "exception": false,
     "start_time": "2021-02-18T15:52:25.017158",
     "status": "completed"
    },
    "tags": []
   },
   "outputs": [
    {
     "data": {
      "image/png": "[encoded data removed]",
      "text/plain": [
       "<Figure size 640x480 with 1 Axes>"
      ]
     },
     "metadata": {},
     "output_type": "display_data"
    }
   ],
   "source": [
    "ax = sns.distplot(df['Meta_score'])"
   ]
  },
  {
   "cell_type": "code",
   "execution_count": 23,
   "metadata": {
    "execution": {
     "iopub.execute_input": "2021-02-18T15:52:25.431523Z",
     "iopub.status.busy": "2021-02-18T15:52:25.430561Z",
     "iopub.status.idle": "2021-02-18T15:52:25.607788Z",
     "shell.execute_reply": "2021-02-18T15:52:25.608219Z"
    },
    "papermill": {
     "duration": 0.23516,
     "end_time": "2021-02-18T15:52:25.608383",
     "exception": false,
     "start_time": "2021-02-18T15:52:25.373223",
     "status": "completed"
    },
    "tags": []
   },
   "outputs": [
    {
     "data": {
      "image/png": "[encoded data removed]",
      "text/plain": [
       "<Figure size 640x480 with 1 Axes>"
      ]
     },
     "metadata": {},
     "output_type": "display_data"
    }
   ],
   "source": [
    "ax = sns.distplot(df['IMDB_Rating'])"
   ]
  },
  {
   "cell_type": "markdown",
   "metadata": {},
   "source": [
    "### Fine Tuning Parameters"
   ]
  },
  {
   "cell_type": "code",
   "execution_count": 24,
   "metadata": {
    "execution": {
     "iopub.execute_input": "2021-02-18T15:52:25.680005Z",
     "iopub.status.busy": "2021-02-18T15:52:25.679092Z",
     "iopub.status.idle": "2021-02-18T15:52:25.684171Z",
     "shell.execute_reply": "2021-02-18T15:52:25.683573Z"
    },
    "papermill": {
     "duration": 0.04164,
     "end_time": "2021-02-18T15:52:25.684315",
     "exception": false,
     "start_time": "2021-02-18T15:52:25.642675",
     "status": "completed"
    },
    "tags": []
   },
   "outputs": [],
   "source": [
    "obj=['Certificate','Genre','Director']"
   ]
  },
  {
   "cell_type": "code",
   "execution_count": 25,
   "metadata": {
    "execution": {
     "iopub.execute_input": "2021-02-18T15:52:25.763315Z",
     "iopub.status.busy": "2021-02-18T15:52:25.762390Z",
     "iopub.status.idle": "2021-02-18T15:52:25.765151Z",
     "shell.execute_reply": "2021-02-18T15:52:25.764546Z"
    },
    "papermill": {
     "duration": 0.043884,
     "end_time": "2021-02-18T15:52:25.765276",
     "exception": false,
     "start_time": "2021-02-18T15:52:25.721392",
     "status": "completed"
    },
    "tags": []
   },
   "outputs": [],
   "source": [
    "cols_to_std = ['Runtime','Released_Year','Gross','Meta_score','No_of_Votes']"
   ]
  },
  {
   "cell_type": "code",
   "execution_count": 26,
   "metadata": {
    "execution": {
     "iopub.execute_input": "2021-02-18T15:52:25.838906Z",
     "iopub.status.busy": "2021-02-18T15:52:25.838227Z",
     "iopub.status.idle": "2021-02-18T15:52:25.840689Z",
     "shell.execute_reply": "2021-02-18T15:52:25.841162Z"
    },
    "papermill": {
     "duration": 0.041241,
     "end_time": "2021-02-18T15:52:25.841326",
     "exception": false,
     "start_time": "2021-02-18T15:52:25.800085",
     "status": "completed"
    },
    "tags": []
   },
   "outputs": [],
   "source": [
    "target = df['IMDB_Rating']"
   ]
  },
  {
   "cell_type": "code",
   "execution_count": 28,
   "metadata": {
    "execution": {
     "iopub.execute_input": "2021-02-18T15:52:25.917875Z",
     "iopub.status.busy": "2021-02-18T15:52:25.917227Z",
     "iopub.status.idle": "2021-02-18T15:52:25.933546Z",
     "shell.execute_reply": "2021-02-18T15:52:25.934111Z"
    },
    "papermill": {
     "duration": 0.058588,
     "end_time": "2021-02-18T15:52:25.934284",
     "exception": false,
     "start_time": "2021-02-18T15:52:25.875696",
     "status": "completed"
    },
    "tags": []
   },
   "outputs": [
    {
     "data": {
      "text/plain": [
       "Runtime                         int32\n",
       "Released_Year                   int32\n",
       "Gross                           int32\n",
       "Meta_score                    float64\n",
       "No_of_Votes                     int64\n",
       "                               ...   \n",
       "Director_Yoshiaki Kawajiri       bool\n",
       "Director_Yôjirô Takita           bool\n",
       "Director_Zack Snyder             bool\n",
       "Director_Zaza Urushadze          bool\n",
       "Director_Zoya Akhtar             bool\n",
       "Length: 669, dtype: object"
      ]
     },
     "execution_count": 28,
     "metadata": {},
     "output_type": "execute_result"
    }
   ],
   "source": [
    "dummies = pd.get_dummies(df[obj],drop_first=True)\n",
    "df_dummies = pd.concat([df[cols_to_std],dummies],axis=1)\n",
    "df_dummies.dtypes"
   ]
  },
  {
   "cell_type": "code",
   "execution_count": 29,
   "metadata": {
    "execution": {
     "iopub.execute_input": "2021-02-18T15:52:26.005723Z",
     "iopub.status.busy": "2021-02-18T15:52:26.005093Z",
     "iopub.status.idle": "2021-02-18T15:52:26.024028Z",
     "shell.execute_reply": "2021-02-18T15:52:26.024661Z"
    },
    "papermill": {
     "duration": 0.056105,
     "end_time": "2021-02-18T15:52:26.024825",
     "exception": false,
     "start_time": "2021-02-18T15:52:25.968720",
     "status": "completed"
    },
    "tags": []
   },
   "outputs": [
    {
     "data": {
      "text/html": [
       "<div>\n",
       "<style scoped>\n",
       "    .dataframe tbody tr th:only-of-type {\n",
       "        vertical-align: middle;\n",
       "    }\n",
       "\n",
       "    .dataframe tbody tr th {\n",
       "        vertical-align: top;\n",
       "    }\n",
       "\n",
       "    .dataframe thead th {\n",
       "        text-align: right;\n",
       "    }\n",
       "</style>\n",
       "<table border=\"1\" class=\"dataframe\">\n",
       "  <thead>\n",
       "    <tr style=\"text-align: right;\">\n",
       "      <th></th>\n",
       "      <th>Runtime</th>\n",
       "      <th>Released_Year</th>\n",
       "      <th>Gross</th>\n",
       "      <th>Meta_score</th>\n",
       "      <th>No_of_Votes</th>\n",
       "      <th>Certificate_Approved</th>\n",
       "      <th>Certificate_G</th>\n",
       "      <th>Certificate_GP</th>\n",
       "      <th>Certificate_PG</th>\n",
       "      <th>Certificate_PG-13</th>\n",
       "      <th>...</th>\n",
       "      <th>Director_Woody Allen</th>\n",
       "      <th>Director_Xavier Dolan</th>\n",
       "      <th>Director_Yann Samuell</th>\n",
       "      <th>Director_Yash Chopra</th>\n",
       "      <th>Director_Yimou Zhang</th>\n",
       "      <th>Director_Yoshiaki Kawajiri</th>\n",
       "      <th>Director_Yôjirô Takita</th>\n",
       "      <th>Director_Zack Snyder</th>\n",
       "      <th>Director_Zaza Urushadze</th>\n",
       "      <th>Director_Zoya Akhtar</th>\n",
       "    </tr>\n",
       "  </thead>\n",
       "  <tbody>\n",
       "    <tr>\n",
       "      <th>0</th>\n",
       "      <td>142</td>\n",
       "      <td>1994</td>\n",
       "      <td>28341469</td>\n",
       "      <td>80.0</td>\n",
       "      <td>2343110</td>\n",
       "      <td>False</td>\n",
       "      <td>False</td>\n",
       "      <td>False</td>\n",
       "      <td>False</td>\n",
       "      <td>False</td>\n",
       "      <td>...</td>\n",
       "      <td>False</td>\n",
       "      <td>False</td>\n",
       "      <td>False</td>\n",
       "      <td>False</td>\n",
       "      <td>False</td>\n",
       "      <td>False</td>\n",
       "      <td>False</td>\n",
       "      <td>False</td>\n",
       "      <td>False</td>\n",
       "      <td>False</td>\n",
       "    </tr>\n",
       "    <tr>\n",
       "      <th>1</th>\n",
       "      <td>175</td>\n",
       "      <td>1972</td>\n",
       "      <td>134966411</td>\n",
       "      <td>100.0</td>\n",
       "      <td>1620367</td>\n",
       "      <td>False</td>\n",
       "      <td>False</td>\n",
       "      <td>False</td>\n",
       "      <td>False</td>\n",
       "      <td>False</td>\n",
       "      <td>...</td>\n",
       "      <td>False</td>\n",
       "      <td>False</td>\n",
       "      <td>False</td>\n",
       "      <td>False</td>\n",
       "      <td>False</td>\n",
       "      <td>False</td>\n",
       "      <td>False</td>\n",
       "      <td>False</td>\n",
       "      <td>False</td>\n",
       "      <td>False</td>\n",
       "    </tr>\n",
       "    <tr>\n",
       "      <th>2</th>\n",
       "      <td>152</td>\n",
       "      <td>2008</td>\n",
       "      <td>534858444</td>\n",
       "      <td>84.0</td>\n",
       "      <td>2303232</td>\n",
       "      <td>False</td>\n",
       "      <td>False</td>\n",
       "      <td>False</td>\n",
       "      <td>False</td>\n",
       "      <td>False</td>\n",
       "      <td>...</td>\n",
       "      <td>False</td>\n",
       "      <td>False</td>\n",
       "      <td>False</td>\n",
       "      <td>False</td>\n",
       "      <td>False</td>\n",
       "      <td>False</td>\n",
       "      <td>False</td>\n",
       "      <td>False</td>\n",
       "      <td>False</td>\n",
       "      <td>False</td>\n",
       "    </tr>\n",
       "  </tbody>\n",
       "</table>\n",
       "<p>3 rows × 669 columns</p>\n",
       "</div>"
      ],
      "text/plain": [
       "   Runtime  Released_Year      Gross  Meta_score  No_of_Votes  \\\n",
       "0      142           1994   28341469        80.0      2343110   \n",
       "1      175           1972  134966411       100.0      1620367   \n",
       "2      152           2008  534858444        84.0      2303232   \n",
       "\n",
       "   Certificate_Approved  Certificate_G  Certificate_GP  Certificate_PG  \\\n",
       "0                 False          False           False           False   \n",
       "1                 False          False           False           False   \n",
       "2                 False          False           False           False   \n",
       "\n",
       "   Certificate_PG-13  ...  Director_Woody Allen  Director_Xavier Dolan  \\\n",
       "0              False  ...                 False                  False   \n",
       "1              False  ...                 False                  False   \n",
       "2              False  ...                 False                  False   \n",
       "\n",
       "   Director_Yann Samuell  Director_Yash Chopra  Director_Yimou Zhang  \\\n",
       "0                  False                 False                 False   \n",
       "1                  False                 False                 False   \n",
       "2                  False                 False                 False   \n",
       "\n",
       "   Director_Yoshiaki Kawajiri  Director_Yôjirô Takita  Director_Zack Snyder  \\\n",
       "0                       False                   False                 False   \n",
       "1                       False                   False                 False   \n",
       "2                       False                   False                 False   \n",
       "\n",
       "   Director_Zaza Urushadze  Director_Zoya Akhtar  \n",
       "0                    False                 False  \n",
       "1                    False                 False  \n",
       "2                    False                 False  \n",
       "\n",
       "[3 rows x 669 columns]"
      ]
     },
     "execution_count": 29,
     "metadata": {},
     "output_type": "execute_result"
    }
   ],
   "source": [
    "df_dummies.head(3)"
   ]
  },
  {
   "cell_type": "code",
   "execution_count": 30,
   "metadata": {
    "execution": {
     "iopub.execute_input": "2021-02-18T15:52:26.098114Z",
     "iopub.status.busy": "2021-02-18T15:52:26.097517Z",
     "iopub.status.idle": "2021-02-18T15:52:26.102633Z",
     "shell.execute_reply": "2021-02-18T15:52:26.103262Z"
    },
    "papermill": {
     "duration": 0.043406,
     "end_time": "2021-02-18T15:52:26.103447",
     "exception": false,
     "start_time": "2021-02-18T15:52:26.060041",
     "status": "completed"
    },
    "tags": []
   },
   "outputs": [
    {
     "data": {
      "text/plain": [
       "Index(['Released_Year', 'Certificate', 'Runtime', 'Genre', 'IMDB_Rating',\n",
       "       'Meta_score', 'Director', 'No_of_Votes', 'Gross'],\n",
       "      dtype='object')"
      ]
     },
     "execution_count": 30,
     "metadata": {},
     "output_type": "execute_result"
    }
   ],
   "source": [
    "df.columns"
   ]
  },
  {
   "cell_type": "code",
   "execution_count": 31,
   "metadata": {
    "execution": {
     "iopub.execute_input": "2021-02-18T15:52:26.180939Z",
     "iopub.status.busy": "2021-02-18T15:52:26.180303Z",
     "iopub.status.idle": "2021-02-18T15:52:26.189429Z",
     "shell.execute_reply": "2021-02-18T15:52:26.190031Z"
    },
    "papermill": {
     "duration": 0.049469,
     "end_time": "2021-02-18T15:52:26.190207",
     "exception": false,
     "start_time": "2021-02-18T15:52:26.140738",
     "status": "completed"
    },
    "tags": []
   },
   "outputs": [],
   "source": [
    "df.drop('Certificate',axis=1,inplace=True)\n",
    "df.drop('Genre',axis=1,inplace=True)\n",
    "df.drop('Director',axis=1,inplace=True)\n",
    "df.drop('No_of_Votes',axis=1,inplace=True)\n",
    "df.drop('IMDB_Rating',axis=1,inplace=True)"
   ]
  },
  {
   "cell_type": "markdown",
   "metadata": {},
   "source": [
    "### Splitting for train and test"
   ]
  },
  {
   "cell_type": "code",
   "execution_count": 32,
   "metadata": {
    "execution": {
     "iopub.execute_input": "2021-02-18T15:52:26.775813Z",
     "iopub.status.busy": "2021-02-18T15:52:26.774710Z",
     "iopub.status.idle": "2021-02-18T15:52:26.983843Z",
     "shell.execute_reply": "2021-02-18T15:52:26.984395Z"
    },
    "papermill": {
     "duration": 0.253543,
     "end_time": "2021-02-18T15:52:26.984587",
     "exception": false,
     "start_time": "2021-02-18T15:52:26.731044",
     "status": "completed"
    },
    "tags": []
   },
   "outputs": [],
   "source": [
    "from sklearn.model_selection import train_test_split\n",
    "X_train, X_test, y_train, y_test = train_test_split(df,target,test_size=0.33)"
   ]
  },
  {
   "cell_type": "markdown",
   "metadata": {},
   "source": [
    "### Applying XGBRegression"
   ]
  },
  {
   "cell_type": "code",
   "execution_count": 33,
   "metadata": {
    "execution": {
     "iopub.execute_input": "2021-02-18T15:52:27.157162Z",
     "iopub.status.busy": "2021-02-18T15:52:27.156590Z",
     "iopub.status.idle": "2021-02-18T15:52:27.526708Z",
     "shell.execute_reply": "2021-02-18T15:52:27.527888Z"
    },
    "papermill": {
     "duration": 0.41156,
     "end_time": "2021-02-18T15:52:27.528085",
     "exception": false,
     "start_time": "2021-02-18T15:52:27.116525",
     "status": "completed"
    },
    "tags": []
   },
   "outputs": [],
   "source": [
    "from xgboost import XGBRegressor\n",
    "from sklearn.metrics import mean_absolute_error,mean_squared_error,r2_score\n",
    "model = XGBRegressor()\n",
    "model.fit(X_train, y_train)\n",
    "z = model.predict(X_test)\n",
    "output = pd.DataFrame({'Predicted':z})"
   ]
  },
  {
   "cell_type": "markdown",
   "metadata": {},
   "source": [
    "### Metrics"
   ]
  },
  {
   "cell_type": "code",
   "execution_count": 34,
   "metadata": {
    "execution": {
     "iopub.execute_input": "2021-02-18T15:52:27.613385Z",
     "iopub.status.busy": "2021-02-18T15:52:27.612768Z",
     "iopub.status.idle": "2021-02-18T15:52:27.615514Z",
     "shell.execute_reply": "2021-02-18T15:52:27.615972Z"
    },
    "papermill": {
     "duration": 0.048553,
     "end_time": "2021-02-18T15:52:27.616127",
     "exception": false,
     "start_time": "2021-02-18T15:52:27.567574",
     "status": "completed"
    },
    "tags": []
   },
   "outputs": [
    {
     "name": "stdout",
     "output_type": "stream",
     "text": [
      "Mean Absolute Error (MAE): 0.2239283241494729\n",
      "Mean Squared Error (MSE): 0.08574849628854463\n",
      "Root Mean Squared Error (RMSE): 0.2928284417343108\n"
     ]
    }
   ],
   "source": [
    "mae = mean_absolute_error(y_test, z)\n",
    "mse = mean_squared_error(y_test, z)\n",
    "rmse = np.sqrt(mse)\n",
    "\n",
    "print(\"Mean Absolute Error (MAE):\", mae)\n",
    "print(\"Mean Squared Error (MSE):\", mse)\n",
    "print(\"Root Mean Squared Error (RMSE):\", rmse)"
   ]
  },
  {
   "cell_type": "markdown",
   "metadata": {},
   "source": [
    "### Exporting Model for usage in Website"
   ]
  },
  {
   "cell_type": "code",
   "execution_count": null,
   "metadata": {},
   "outputs": [],
   "source": [
    "import pickle\n",
    "\n",
    "with open('model.pkl','wb') as f:\n",
    "\n",
    "    pickle.dump(model,f)"
   ]
  },
  {
   "cell_type": "markdown",
   "metadata": {},
   "source": [
    "### For Testing Purposes"
   ]
  },
  {
   "cell_type": "code",
   "execution_count": 35,
   "metadata": {},
   "outputs": [],
   "source": [
    "a = pd.DataFrame({'Released_Year':[2015],'Runtime':[124],'Meta_score':[59],'Gross':[1672000000]})"
   ]
  },
  {
   "cell_type": "code",
   "execution_count": 36,
   "metadata": {},
   "outputs": [
    {
     "name": "stdout",
     "output_type": "stream",
     "text": [
      "8.020896911621094\n"
     ]
    }
   ],
   "source": [
    "b = model.predict(a)\n",
    "print(float(b))"
   ]
  }
 ],
 "metadata": {
  "kernelspec": {
   "display_name": "Python 3",
   "language": "python",
   "name": "python3"
  },
  "language_info": {
   "codemirror_mode": {
    "name": "ipython",
    "version": 3
   },
   "file_extension": ".py",
   "mimetype": "text/x-python",
   "name": "python",
   "nbconvert_exporter": "python",
   "pygments_lexer": "ipython3",
   "version": "3.11.3"
  },
  "papermill": {
   "default_parameters": {},
   "duration": 11.304163,
   "end_time": "2021-02-18T15:52:28.347348",
   "environment_variables": {},
   "exception": null,
   "input_path": "__notebook__.ipynb",
   "output_path": "__notebook__.ipynb",
   "parameters": {},
   "start_time": "2021-02-18T15:52:17.043185",
   "version": "2.2.2"
  }
 },
 "nbformat": 4,
 "nbformat_minor": 4
}
